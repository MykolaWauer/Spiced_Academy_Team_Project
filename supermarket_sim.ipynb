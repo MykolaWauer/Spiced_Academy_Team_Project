{
  "nbformat": 4,
  "nbformat_minor": 0,
  "metadata": {
    "colab": {
      "provenance": [],
      "authorship_tag": "ABX9TyPPkcMcjM6PtdxmCkOt+Iid",
      "include_colab_link": true
    },
    "kernelspec": {
      "name": "python3",
      "display_name": "Python 3"
    },
    "language_info": {
      "name": "python"
    }
  },
  "cells": [
    {
      "cell_type": "markdown",
      "metadata": {
        "id": "view-in-github",
        "colab_type": "text"
      },
      "source": [
        "<a href=\"https://colab.research.google.com/github/MykolaWauer/Spiced_Academy_Team_Project/blob/foawzi-feature/supermarket_sim.ipynb\" target=\"_parent\"><img src=\"https://colab.research.google.com/assets/colab-badge.svg\" alt=\"Open In Colab\"/></a>"
      ]
    },
    {
      "cell_type": "code",
      "source": [
        "#pip install --upgrade opencv-python\n",
        "#!pip install ofs"
      ],
      "metadata": {
        "id": "v-oa5yoVhylX"
      },
      "execution_count": 1,
      "outputs": []
    },
    {
      "cell_type": "code",
      "execution_count": 51,
      "metadata": {
        "id": "fgQrUDxI8s0h"
      },
      "outputs": [],
      "source": [
        "import numpy as np\n",
        "import cv2"
      ]
    },
    {
      "cell_type": "code",
      "source": [
        "TILE_SIZE = 32\n",
        "OFS = 50"
      ],
      "metadata": {
        "id": "_KwiaraIhr2j"
      },
      "execution_count": 52,
      "outputs": []
    },
    {
      "cell_type": "code",
      "source": [
        "\n",
        "\n",
        "MARKET = \"\"\"\n",
        "##################\n",
        "##....c...c......#\n",
        "##..DR..RS..SF..F#\n",
        "##c.DRc.RS..SFc.F#\n",
        "##..DR..RS.cSF..F#\n",
        "##.cDR.cRS..SF..F#\n",
        "##..DR..RS..SF..F#\n",
        "##..c....c....c..#\n",
        "##..CC..CC..CC...#\n",
        "##.............c.#\n",
        "##...............#\n",
        "##WW##WW##WW##GG##\n",
        "\"\"\".strip()\n",
        "\n"
      ],
      "metadata": {
        "id": "5dReEk3ThuVg"
      },
      "execution_count": 53,
      "outputs": []
    },
    {
      "cell_type": "code",
      "source": [
        "import numpy as np\n",
        "import cv2\n",
        "\n",
        "TILE_SIZE = 32\n",
        "OFS = 50\n",
        "\n",
        "class SupermarketMap:\n",
        "    \"\"\"Visualizes the supermarket background\"\"\"\n",
        "\n",
        "    def __init__(self, layout, tiles):\n",
        "        \"\"\"\n",
        "        layout : a string with each character representing a tile\n",
        "        tile   : a numpy array containing the tile image\n",
        "        \"\"\"\n",
        "        self.tiles = tiles\n",
        "        self.contents = [list(row) for row in layout.split(\"\\n\")]\n",
        "        self.xsize = len(self.contents[0])\n",
        "        self.ysize = len(self.contents)\n",
        "        self.image = np.zeros(\n",
        "            (self.ysize * TILE_SIZE, self.xsize * TILE_SIZE, 3), dtype=np.uint8\n",
        "        )\n",
        "        self.prepare_map()\n",
        "\n",
        "    def get_tile(self, char):\n",
        "        \"\"\"returns the array for a given tile character\"\"\"\n",
        "        if char == \"#\":\n",
        "          return self.tiles[0:32, 0:32]\n",
        "        elif char == \"G\": # gates\n",
        "            return self.tiles[8 * 32 : 9 * 32, 3 * 32 : 4 * 32] \n",
        "        elif char == \"W\": # window\n",
        "            return self.tiles[8 * 32 : 9 * 32, 4 * 32 : 5 * 32]\n",
        "        elif char == \"C\": # checko@          \n",
        "          return self.tiles[2 * 32 : 3 * 32, 8 * 32 : 9 * 32]\n",
        "        elif char == \"F\": # fruits\n",
        "          return self.tiles[1 * 32 : 2 * 32, 4 * 32 : 5 * 32] \n",
        "        elif char == \"S\": # spices\n",
        "            return self.tiles[1 * 32 : 2 * 32, 3 * 32 : 4 * 32]       \n",
        "        elif char == \"R\": # dairy\n",
        "            return self.tiles[8 * 32 : 9 * 32, 7 * 32 : 8 * 32] \n",
        "        elif char == \"D\": # drinks\n",
        "            return self.tiles[6 * 32 : 7 * 32, 13 * 32 : 14 * 32] \n",
        "        elif char == \"c\": # customer/shopping cart\n",
        "            return self.tiles[8 * 32 : 9 * 32, 6 * 32 : 7 * 32] \n",
        "        else:\n",
        "            return self.tiles[32:64, 64:96]\n",
        "\n",
        "    def prepare_map(self):\n",
        "        \"\"\"prepares the entire image as a big numpy array\"\"\"\n",
        "        for y, row in enumerate(self.contents):\n",
        "            for x, tile in enumerate(row):\n",
        "                bm = self.get_tile(tile)\n",
        "                self.image[\n",
        "                    y * TILE_SIZE : (y + 1) * TILE_SIZE,\n",
        "                    x * TILE_SIZE : (x + 1) * TILE_SIZE,\n",
        "                ] = bm\n",
        "\n",
        "    def draw(self, frame, offset=OFS):\n",
        "        \"\"\"\n",
        "        draws the image into a frame\n",
        "        offset pixels from the top left corner\n",
        "        \"\"\"\n",
        "        frame[\n",
        "            OFS : OFS + self.image.shape[0], OFS : OFS + self.image.shape[1]\n",
        "        ] = self.image\n",
        "\n",
        "    def write_image(self, filename):\n",
        "        \"\"\"writes the image into a file\"\"\"\n",
        "        cv2.imwrite(filename, self.image)\n",
        "\n",
        "\n"
      ],
      "metadata": {
        "id": "cQC37D4ATELU"
      },
      "execution_count": 62,
      "outputs": []
    },
    {
      "cell_type": "code",
      "source": [
        "import pandas as pd\n",
        "import numpy as np\n",
        "import cv2\n",
        "import time\n",
        "import os\n",
        "os.path.exists('market.png') # Will likely give False\n",
        "os.getcwd() # This will return the current working directory\n",
        "\n",
        "\n",
        "matrix_monday = pd.read_csv('monday.csv', index_col = 0).T\n",
        "matrix_monday = np.array(matrix_monday)\n",
        "simulated_data = pd.read_csv('sim_c10_till_20.csv', sep=',')\n",
        "\n",
        "TILE_SIZE = 32\n",
        "OFS = 50\n",
        "\n",
        "map = \"\"\"\n",
        "##################\n",
        "#................#\n",
        "#D..DR..RS..SF..F#\n",
        "#D..DR..RS..SF..F#\n",
        "#D..DR..RS..SF..F#\n",
        "#D..DR..RS..SF..F#\n",
        "#D..DR..RS..SF..F#\n",
        "#................#\n",
        "#...CC..CC..CC...#\n",
        "#...CC..CC..CC...#\n",
        "#................#\n",
        "##WW##WW##WW##GG##\n",
        "\"\"\".strip().split('\\n')\n",
        "\n",
        "\n",
        "\n",
        "\n",
        "MARKET = cv2.imread(\"market.png\")  # load in the image of the supermarket as a NumPy array\n",
        "TILES = cv2.imread(\"tiles.png\")  # load in the tileset image as a NumPy array\n",
        "\n",
        "class SupermarketMap:\n",
        "    def __init__(self, market, tiles):\n",
        "        self.map = market\n",
        "        self.tiles = tiles\n",
        "\n",
        "    def get_tile(self, char):\n",
        "        if char == \"#\":\n",
        "          return self.tiles[0:32, 0:32,:]\n",
        "        elif char == \"G\": # gates\n",
        "          return self.tiles[8 * 32 : 9 * 32, 3 * 32 : 4 * 32]\n",
        "        elif char == \"c\": # customer\n",
        "            return self.tiles[9 * 32 : 10 * 32, 0:32]\n",
        "        elif char == \"b\": # basket\n",
        "            return self.tiles[9 * 32 : 10 * 32, 7 * 32 : 8 * 32]\n",
        "\n",
        "def add_customer(image, x, y):\n",
        "    customer_image = SupermarketMap(MARKET, TILES).get_tile('c')\n",
        "    image[y:y+32, x:x+32] = customer_image\n",
        "\n",
        "def add_basket(image, x, y):\n",
        "    basket_image = SupermarketMap(MARKET, TILES).get_tile('b')\n",
        "    image[y:y+32, x:x+32] = basket_image\n",
        "\n",
        "def add_gate(image, x, y):\n",
        "    gate_image = SupermarketMap(MARKET, TILES).get_tile('G')\n",
        "    image[y:y+32, x:x+32] = gate_image\n",
        "\n",
        "def create_market_image():\n",
        "    # create a black image with the same dimensions as the supermarket map\n",
        "    market_image = np.zeros((MARKET.shape[0], MARKET.shape[1], 3), np.uint8)    \n",
        "    # add the walls to the image\n",
        "    wall_tile = SupermarketMap(MARKET, TILES).get_tile(\"#\")\n",
        "    for y in range(0, MARKET.shape[0], 32):\n",
        "        for x in range(0, MARKET.shape[1], 32):\n",
        "          if (MARKET[y][x] == [0, 0, 0]).all():\n",
        "            market_image[y:y+32, x:x+32] = wall_tile\n",
        "    \n",
        "    # add gates, customers, and baskets to the image\n",
        "        add_gate(market_image, 352, 0)\n",
        "        add_gate(market_image, 416, 0)\n",
        "        add_customer(market_image, 100, 100)\n",
        "        add_basket(market_image, 200, 200)\n",
        "    \n",
        "        return market_image\n",
        "\n",
        "# create the market image and display it\n",
        "market_image = create_market_image()\n",
        "cv2.imshow(\"Market\", market_image)\n",
        "cv2.waitKey(0)\n",
        "cv2.destroyAllWindows()"
      ],
      "metadata": {
        "id": "8veVzA95yu5p",
        "colab": {
          "base_uri": "https://localhost:8080/",
          "height": 363
        },
        "outputId": "d04603f8-f951-4b85-cd3e-a0f269482ca4"
      },
      "execution_count": 63,
      "outputs": [
        {
          "output_type": "error",
          "ename": "AttributeError",
          "evalue": "ignored",
          "traceback": [
            "\u001b[0;31m---------------------------------------------------------------------------\u001b[0m",
            "\u001b[0;31mAttributeError\u001b[0m                            Traceback (most recent call last)",
            "\u001b[0;32m<ipython-input-63-acbd4311d84f>\u001b[0m in \u001b[0;36m<module>\u001b[0;34m\u001b[0m\n\u001b[1;32m     82\u001b[0m \u001b[0;34m\u001b[0m\u001b[0m\n\u001b[1;32m     83\u001b[0m \u001b[0;31m# create the market image and display it\u001b[0m\u001b[0;34m\u001b[0m\u001b[0;34m\u001b[0m\u001b[0;34m\u001b[0m\u001b[0m\n\u001b[0;32m---> 84\u001b[0;31m \u001b[0mmarket_image\u001b[0m \u001b[0;34m=\u001b[0m \u001b[0mcreate_market_image\u001b[0m\u001b[0;34m(\u001b[0m\u001b[0;34m)\u001b[0m\u001b[0;34m\u001b[0m\u001b[0;34m\u001b[0m\u001b[0m\n\u001b[0m\u001b[1;32m     85\u001b[0m \u001b[0mcv2\u001b[0m\u001b[0;34m.\u001b[0m\u001b[0mimshow\u001b[0m\u001b[0;34m(\u001b[0m\u001b[0;34m\"Market\"\u001b[0m\u001b[0;34m,\u001b[0m \u001b[0mmarket_image\u001b[0m\u001b[0;34m)\u001b[0m\u001b[0;34m\u001b[0m\u001b[0;34m\u001b[0m\u001b[0m\n\u001b[1;32m     86\u001b[0m \u001b[0mcv2\u001b[0m\u001b[0;34m.\u001b[0m\u001b[0mwaitKey\u001b[0m\u001b[0;34m(\u001b[0m\u001b[0;36m0\u001b[0m\u001b[0;34m)\u001b[0m\u001b[0;34m\u001b[0m\u001b[0;34m\u001b[0m\u001b[0m\n",
            "\u001b[0;32m<ipython-input-63-acbd4311d84f>\u001b[0m in \u001b[0;36mcreate_market_image\u001b[0;34m()\u001b[0m\n\u001b[1;32m     65\u001b[0m \u001b[0;32mdef\u001b[0m \u001b[0mcreate_market_image\u001b[0m\u001b[0;34m(\u001b[0m\u001b[0;34m)\u001b[0m\u001b[0;34m:\u001b[0m\u001b[0;34m\u001b[0m\u001b[0;34m\u001b[0m\u001b[0m\n\u001b[1;32m     66\u001b[0m     \u001b[0;31m# create a black image with the same dimensions as the supermarket map\u001b[0m\u001b[0;34m\u001b[0m\u001b[0;34m\u001b[0m\u001b[0;34m\u001b[0m\u001b[0m\n\u001b[0;32m---> 67\u001b[0;31m     \u001b[0mmarket_image\u001b[0m \u001b[0;34m=\u001b[0m \u001b[0mnp\u001b[0m\u001b[0;34m.\u001b[0m\u001b[0mzeros\u001b[0m\u001b[0;34m(\u001b[0m\u001b[0;34m(\u001b[0m\u001b[0mMARKET\u001b[0m\u001b[0;34m.\u001b[0m\u001b[0mshape\u001b[0m\u001b[0;34m[\u001b[0m\u001b[0;36m0\u001b[0m\u001b[0;34m]\u001b[0m\u001b[0;34m,\u001b[0m \u001b[0mMARKET\u001b[0m\u001b[0;34m.\u001b[0m\u001b[0mshape\u001b[0m\u001b[0;34m[\u001b[0m\u001b[0;36m1\u001b[0m\u001b[0;34m]\u001b[0m\u001b[0;34m,\u001b[0m \u001b[0;36m3\u001b[0m\u001b[0;34m)\u001b[0m\u001b[0;34m,\u001b[0m \u001b[0mnp\u001b[0m\u001b[0;34m.\u001b[0m\u001b[0muint8\u001b[0m\u001b[0;34m)\u001b[0m\u001b[0;34m\u001b[0m\u001b[0;34m\u001b[0m\u001b[0m\n\u001b[0m\u001b[1;32m     68\u001b[0m     \u001b[0;31m# add the walls to the image\u001b[0m\u001b[0;34m\u001b[0m\u001b[0;34m\u001b[0m\u001b[0;34m\u001b[0m\u001b[0m\n\u001b[1;32m     69\u001b[0m     \u001b[0mwall_tile\u001b[0m \u001b[0;34m=\u001b[0m \u001b[0mSupermarketMap\u001b[0m\u001b[0;34m(\u001b[0m\u001b[0mMARKET\u001b[0m\u001b[0;34m,\u001b[0m \u001b[0mTILES\u001b[0m\u001b[0;34m)\u001b[0m\u001b[0;34m.\u001b[0m\u001b[0mget_tile\u001b[0m\u001b[0;34m(\u001b[0m\u001b[0;34m\"#\"\u001b[0m\u001b[0;34m)\u001b[0m\u001b[0;34m\u001b[0m\u001b[0;34m\u001b[0m\u001b[0m\n",
            "\u001b[0;31mAttributeError\u001b[0m: 'NoneType' object has no attribute 'shape'"
          ]
        }
      ]
    },
    {
      "cell_type": "code",
      "source": [
        " \n",
        "MARKET = \"\"\"\n",
        "##################\n",
        "#................#\n",
        "#D..DR..RS..SF..F#\n",
        "#D..DR..RS..SF..F#\n",
        "#D..DR..RS..SF..F#\n",
        "#D..DR..RS..SF..F#\n",
        "#D..DR..RS..SF..F#\n",
        "#................#\n",
        "#...CC..CC..CC...#\n",
        "#...CC..CC..CC...#\n",
        "#................#\n",
        "##WW##WW##WW##GG##\n",
        "\"\"\".strip().split('\\n')"
      ],
      "metadata": {
        "id": "Ed3hHVkwRLUc"
      },
      "execution_count": 64,
      "outputs": []
    },
    {
      "cell_type": "code",
      "source": [
        "np.array(MARKET).shape"
      ],
      "metadata": {
        "colab": {
          "base_uri": "https://localhost:8080/"
        },
        "id": "vNo1rXY0Gg5T",
        "outputId": "d77f62e1-e3a4-4f2e-f7d7-4a0b0382a3e2"
      },
      "execution_count": 65,
      "outputs": [
        {
          "output_type": "execute_result",
          "data": {
            "text/plain": [
              "(12,)"
            ]
          },
          "metadata": {},
          "execution_count": 65
        }
      ]
    },
    {
      "cell_type": "code",
      "source": [
        "MARKET"
      ],
      "metadata": {
        "colab": {
          "base_uri": "https://localhost:8080/"
        },
        "id": "8ash-EJ-Gmav",
        "outputId": "1d6b9b98-760e-41c9-f125-caf5400017af"
      },
      "execution_count": 66,
      "outputs": [
        {
          "output_type": "execute_result",
          "data": {
            "text/plain": [
              "['##################',\n",
              " '#................#',\n",
              " '#D..DR..RS..SF..F#',\n",
              " '#D..DR..RS..SF..F#',\n",
              " '#D..DR..RS..SF..F#',\n",
              " '#D..DR..RS..SF..F#',\n",
              " '#D..DR..RS..SF..F#',\n",
              " '#................#',\n",
              " '#...CC..CC..CC...#',\n",
              " '#...CC..CC..CC...#',\n",
              " '#................#',\n",
              " '##WW##WW##WW##GG##']"
            ]
          },
          "metadata": {},
          "execution_count": 66
        }
      ]
    },
    {
      "cell_type": "code",
      "source": [],
      "metadata": {
        "id": "v36mv1PvG9rO"
      },
      "execution_count": 66,
      "outputs": []
    }
  ]
}