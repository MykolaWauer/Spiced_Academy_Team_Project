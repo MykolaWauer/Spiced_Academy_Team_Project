{
 "cells": [
  {
   "cell_type": "code",
   "execution_count": 180,
   "metadata": {},
   "outputs": [],
   "source": [
    "import pandas as pd\n",
    "import numpy as np"
   ]
  },
  {
   "cell_type": "code",
   "execution_count": 181,
   "metadata": {},
   "outputs": [
    {
     "data": {
      "text/html": [
       "<div>\n",
       "<style scoped>\n",
       "    .dataframe tbody tr th:only-of-type {\n",
       "        vertical-align: middle;\n",
       "    }\n",
       "\n",
       "    .dataframe tbody tr th {\n",
       "        vertical-align: top;\n",
       "    }\n",
       "\n",
       "    .dataframe thead th {\n",
       "        text-align: right;\n",
       "    }\n",
       "</style>\n",
       "<table border=\"1\" class=\"dataframe\">\n",
       "  <thead>\n",
       "    <tr style=\"text-align: right;\">\n",
       "      <th></th>\n",
       "      <th>checkout</th>\n",
       "      <th>dairy</th>\n",
       "      <th>drinks</th>\n",
       "      <th>fruit</th>\n",
       "      <th>spices</th>\n",
       "    </tr>\n",
       "    <tr>\n",
       "      <th>location</th>\n",
       "      <th></th>\n",
       "      <th></th>\n",
       "      <th></th>\n",
       "      <th></th>\n",
       "      <th></th>\n",
       "    </tr>\n",
       "  </thead>\n",
       "  <tbody>\n",
       "    <tr>\n",
       "      <th>checkout</th>\n",
       "      <td>1.000000</td>\n",
       "      <td>0.000000</td>\n",
       "      <td>0.000000</td>\n",
       "      <td>0.000000</td>\n",
       "      <td>0.000000</td>\n",
       "    </tr>\n",
       "    <tr>\n",
       "      <th>dairy</th>\n",
       "      <td>0.103344</td>\n",
       "      <td>0.737061</td>\n",
       "      <td>0.058500</td>\n",
       "      <td>0.049789</td>\n",
       "      <td>0.051307</td>\n",
       "    </tr>\n",
       "    <tr>\n",
       "      <th>drinks</th>\n",
       "      <td>0.215688</td>\n",
       "      <td>0.010898</td>\n",
       "      <td>0.598540</td>\n",
       "      <td>0.087900</td>\n",
       "      <td>0.086974</td>\n",
       "    </tr>\n",
       "    <tr>\n",
       "      <th>entrance</th>\n",
       "      <td>0.000000</td>\n",
       "      <td>0.287576</td>\n",
       "      <td>0.153526</td>\n",
       "      <td>0.377435</td>\n",
       "      <td>0.181464</td>\n",
       "    </tr>\n",
       "    <tr>\n",
       "      <th>fruit</th>\n",
       "      <td>0.201447</td>\n",
       "      <td>0.095848</td>\n",
       "      <td>0.054804</td>\n",
       "      <td>0.597264</td>\n",
       "      <td>0.050637</td>\n",
       "    </tr>\n",
       "    <tr>\n",
       "      <th>spices</th>\n",
       "      <td>0.150565</td>\n",
       "      <td>0.193061</td>\n",
       "      <td>0.162979</td>\n",
       "      <td>0.090880</td>\n",
       "      <td>0.402515</td>\n",
       "    </tr>\n",
       "  </tbody>\n",
       "</table>\n",
       "</div>"
      ],
      "text/plain": [
       "          checkout     dairy    drinks     fruit    spices\n",
       "location                                                  \n",
       "checkout  1.000000  0.000000  0.000000  0.000000  0.000000\n",
       "dairy     0.103344  0.737061  0.058500  0.049789  0.051307\n",
       "drinks    0.215688  0.010898  0.598540  0.087900  0.086974\n",
       "entrance  0.000000  0.287576  0.153526  0.377435  0.181464\n",
       "fruit     0.201447  0.095848  0.054804  0.597264  0.050637\n",
       "spices    0.150565  0.193061  0.162979  0.090880  0.402515"
      ]
     },
     "execution_count": 181,
     "metadata": {},
     "output_type": "execute_result"
    }
   ],
   "source": [
    "# Load in data that informs our functions which probability to use.\n",
    "probabs = pd.read_csv('../probabilities.csv', index_col=0)\n",
    "probabs"
   ]
  },
  {
   "cell_type": "code",
   "execution_count": 189,
   "metadata": {},
   "outputs": [
    {
     "data": {
      "text/plain": [
       "Index(['checkout', 'dairy', 'drinks', 'fruit', 'spices'], dtype='object', name='location')"
      ]
     },
     "execution_count": 189,
     "metadata": {},
     "output_type": "execute_result"
    }
   ],
   "source": [
    "# Create a list of possible states that does not include entrance \n",
    "# because no customer can return to the entrance.\n",
    "states = probabs.drop('entrance').index\n",
    "states"
   ]
  },
  {
   "cell_type": "code",
   "execution_count": 190,
   "metadata": {},
   "outputs": [
    {
     "data": {
      "text/plain": [
       "checkout    0.103344\n",
       "dairy       0.737061\n",
       "drinks      0.058500\n",
       "fruit       0.049789\n",
       "spices      0.051307\n",
       "Name: dairy, dtype: float64"
      ]
     },
     "execution_count": 190,
     "metadata": {},
     "output_type": "execute_result"
    }
   ],
   "source": [
    "# Testing how loc works. In the class, 'dairy' is taken out and \n",
    "# self.state takes its place.\n",
    "probabs.loc['dairy']"
   ]
  },
  {
   "cell_type": "code",
   "execution_count": 194,
   "metadata": {},
   "outputs": [],
   "source": [
    "class Customer:\n",
    "    \"\"\"\n",
    "    A single customer that moves \n",
    "    through the supermarket in a MCMC simulation\n",
    "    \"\"\"\n",
    "    \n",
    "    def __init__(self, name, state='entrance', probabs = probabs):\n",
    "        self.name = name\n",
    "        self.state = state\n",
    "        self.probabs = probabs\n",
    "\n",
    "    def __repr__(self):\n",
    "        return f'<Customer {self.name} in {self.state}>'\n",
    "    \n",
    "    def next_state(self):\n",
    "        \"\"\"\n",
    "        Propagates the customer to the next state.\n",
    "        Returns nothing.\n",
    "        \"\"\"\n",
    "        \n",
    "        while self.state != 'checkout':\n",
    "            \n",
    "            next_state = np.random.choice(states, p=probabs.loc[self.state])\n",
    "\n",
    "            print(next_state)\n",
    "\n",
    "            self.state = next_state\n",
    "\n",
    "# Apparently we will next write a Supermarket class that does a similar step to what the\n",
    "# 'Race' class did in the class_lesson.py file found in 8.3-Classes\n",
    "\n",
    "# This will go take a list of customers, make them do a move, track if any of them enter \n",
    "# checkout, drop them from the movement if they do, and then continue until no more customers\n",
    "# exist. Or at least, that is the theory...\n"
   ]
  },
  {
   "cell_type": "code",
   "execution_count": 195,
   "metadata": {},
   "outputs": [],
   "source": [
    "cust1 = Customer('Mykola')"
   ]
  },
  {
   "cell_type": "code",
   "execution_count": 196,
   "metadata": {},
   "outputs": [
    {
     "name": "stdout",
     "output_type": "stream",
     "text": [
      "dairy\n",
      "drinks\n",
      "checkout\n"
     ]
    }
   ],
   "source": [
    "cust1.next_state()"
   ]
  }
 ],
 "metadata": {
  "kernelspec": {
   "display_name": "Python 3",
   "language": "python",
   "name": "python3"
  },
  "language_info": {
   "codemirror_mode": {
    "name": "ipython",
    "version": 3
   },
   "file_extension": ".py",
   "mimetype": "text/x-python",
   "name": "python",
   "nbconvert_exporter": "python",
   "pygments_lexer": "ipython3",
   "version": "3.11.1"
  },
  "orig_nbformat": 4,
  "vscode": {
   "interpreter": {
    "hash": "aee8b7b246df8f9039afb4144a1f6fd8d2ca17a180786b69acc140d282b71a49"
   }
  }
 },
 "nbformat": 4,
 "nbformat_minor": 2
}
