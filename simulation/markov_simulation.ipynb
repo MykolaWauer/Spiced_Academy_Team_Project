{
 "cells": [
  {
   "cell_type": "code",
   "execution_count": 1,
   "metadata": {},
   "outputs": [],
   "source": [
    "import pandas as pd\n",
    "import numpy as np\n",
    "from datetime import timedelta"
   ]
  },
  {
   "cell_type": "code",
   "execution_count": 2,
   "metadata": {},
   "outputs": [],
   "source": [
    "# Load in data that informs the times a customer could enter the store.\n",
    "# TIME IS NOT IN DATETIME FORMAT!!!\n",
    "time_probs = pd.read_csv('../data/cust_times.csv')\n",
    "time_probs['time'] = pd.to_datetime(time_probs['time'])\n",
    "time_probs.set_index('time', inplace=True)"
   ]
  },
  {
   "cell_type": "code",
   "execution_count": 3,
   "metadata": {},
   "outputs": [
    {
     "data": {
      "text/html": [
       "<div>\n",
       "<style scoped>\n",
       "    .dataframe tbody tr th:only-of-type {\n",
       "        vertical-align: middle;\n",
       "    }\n",
       "\n",
       "    .dataframe tbody tr th {\n",
       "        vertical-align: top;\n",
       "    }\n",
       "\n",
       "    .dataframe thead th {\n",
       "        text-align: right;\n",
       "    }\n",
       "</style>\n",
       "<table border=\"1\" class=\"dataframe\">\n",
       "  <thead>\n",
       "    <tr style=\"text-align: right;\">\n",
       "      <th></th>\n",
       "      <th>new_id</th>\n",
       "      <th>probability</th>\n",
       "    </tr>\n",
       "    <tr>\n",
       "      <th>time</th>\n",
       "      <th></th>\n",
       "      <th></th>\n",
       "    </tr>\n",
       "  </thead>\n",
       "  <tbody>\n",
       "    <tr>\n",
       "      <th>2023-03-02 06:59:00</th>\n",
       "      <td>10</td>\n",
       "      <td>0.001343</td>\n",
       "    </tr>\n",
       "    <tr>\n",
       "      <th>2023-03-02 07:00:00</th>\n",
       "      <td>6</td>\n",
       "      <td>0.000806</td>\n",
       "    </tr>\n",
       "    <tr>\n",
       "      <th>2023-03-02 07:01:00</th>\n",
       "      <td>4</td>\n",
       "      <td>0.000537</td>\n",
       "    </tr>\n",
       "    <tr>\n",
       "      <th>2023-03-02 07:02:00</th>\n",
       "      <td>12</td>\n",
       "      <td>0.001612</td>\n",
       "    </tr>\n",
       "    <tr>\n",
       "      <th>2023-03-02 07:03:00</th>\n",
       "      <td>10</td>\n",
       "      <td>0.001343</td>\n",
       "    </tr>\n",
       "    <tr>\n",
       "      <th>...</th>\n",
       "      <td>...</td>\n",
       "      <td>...</td>\n",
       "    </tr>\n",
       "    <tr>\n",
       "      <th>2023-03-02 21:45:00</th>\n",
       "      <td>9</td>\n",
       "      <td>0.001209</td>\n",
       "    </tr>\n",
       "    <tr>\n",
       "      <th>2023-03-02 21:46:00</th>\n",
       "      <td>5</td>\n",
       "      <td>0.000672</td>\n",
       "    </tr>\n",
       "    <tr>\n",
       "      <th>2023-03-02 21:47:00</th>\n",
       "      <td>9</td>\n",
       "      <td>0.001209</td>\n",
       "    </tr>\n",
       "    <tr>\n",
       "      <th>2023-03-02 21:48:00</th>\n",
       "      <td>1</td>\n",
       "      <td>0.000134</td>\n",
       "    </tr>\n",
       "    <tr>\n",
       "      <th>2023-03-02 21:49:00</th>\n",
       "      <td>4</td>\n",
       "      <td>0.000537</td>\n",
       "    </tr>\n",
       "  </tbody>\n",
       "</table>\n",
       "<p>874 rows × 2 columns</p>\n",
       "</div>"
      ],
      "text/plain": [
       "                     new_id  probability\n",
       "time                                    \n",
       "2023-03-02 06:59:00      10     0.001343\n",
       "2023-03-02 07:00:00       6     0.000806\n",
       "2023-03-02 07:01:00       4     0.000537\n",
       "2023-03-02 07:02:00      12     0.001612\n",
       "2023-03-02 07:03:00      10     0.001343\n",
       "...                     ...          ...\n",
       "2023-03-02 21:45:00       9     0.001209\n",
       "2023-03-02 21:46:00       5     0.000672\n",
       "2023-03-02 21:47:00       9     0.001209\n",
       "2023-03-02 21:48:00       1     0.000134\n",
       "2023-03-02 21:49:00       4     0.000537\n",
       "\n",
       "[874 rows x 2 columns]"
      ]
     },
     "execution_count": 3,
     "metadata": {},
     "output_type": "execute_result"
    }
   ],
   "source": [
    "time_probs"
   ]
  },
  {
   "cell_type": "code",
   "execution_count": 4,
   "metadata": {},
   "outputs": [
    {
     "data": {
      "text/html": [
       "<div>\n",
       "<style scoped>\n",
       "    .dataframe tbody tr th:only-of-type {\n",
       "        vertical-align: middle;\n",
       "    }\n",
       "\n",
       "    .dataframe tbody tr th {\n",
       "        vertical-align: top;\n",
       "    }\n",
       "\n",
       "    .dataframe thead th {\n",
       "        text-align: right;\n",
       "    }\n",
       "</style>\n",
       "<table border=\"1\" class=\"dataframe\">\n",
       "  <thead>\n",
       "    <tr style=\"text-align: right;\">\n",
       "      <th></th>\n",
       "      <th>checkout</th>\n",
       "      <th>dairy</th>\n",
       "      <th>drinks</th>\n",
       "      <th>fruit</th>\n",
       "      <th>spices</th>\n",
       "    </tr>\n",
       "    <tr>\n",
       "      <th>location</th>\n",
       "      <th></th>\n",
       "      <th></th>\n",
       "      <th></th>\n",
       "      <th></th>\n",
       "      <th></th>\n",
       "    </tr>\n",
       "  </thead>\n",
       "  <tbody>\n",
       "    <tr>\n",
       "      <th>checkout</th>\n",
       "      <td>1.000000</td>\n",
       "      <td>0.000000</td>\n",
       "      <td>0.000000</td>\n",
       "      <td>0.000000</td>\n",
       "      <td>0.000000</td>\n",
       "    </tr>\n",
       "    <tr>\n",
       "      <th>dairy</th>\n",
       "      <td>0.103344</td>\n",
       "      <td>0.737061</td>\n",
       "      <td>0.058500</td>\n",
       "      <td>0.049789</td>\n",
       "      <td>0.051307</td>\n",
       "    </tr>\n",
       "    <tr>\n",
       "      <th>drinks</th>\n",
       "      <td>0.215688</td>\n",
       "      <td>0.010898</td>\n",
       "      <td>0.598540</td>\n",
       "      <td>0.087900</td>\n",
       "      <td>0.086974</td>\n",
       "    </tr>\n",
       "    <tr>\n",
       "      <th>entrance</th>\n",
       "      <td>0.000000</td>\n",
       "      <td>0.287576</td>\n",
       "      <td>0.153526</td>\n",
       "      <td>0.377435</td>\n",
       "      <td>0.181464</td>\n",
       "    </tr>\n",
       "    <tr>\n",
       "      <th>fruit</th>\n",
       "      <td>0.201447</td>\n",
       "      <td>0.095848</td>\n",
       "      <td>0.054804</td>\n",
       "      <td>0.597264</td>\n",
       "      <td>0.050637</td>\n",
       "    </tr>\n",
       "    <tr>\n",
       "      <th>spices</th>\n",
       "      <td>0.150565</td>\n",
       "      <td>0.193061</td>\n",
       "      <td>0.162979</td>\n",
       "      <td>0.090880</td>\n",
       "      <td>0.402515</td>\n",
       "    </tr>\n",
       "  </tbody>\n",
       "</table>\n",
       "</div>"
      ],
      "text/plain": [
       "          checkout     dairy    drinks     fruit    spices\n",
       "location                                                  \n",
       "checkout  1.000000  0.000000  0.000000  0.000000  0.000000\n",
       "dairy     0.103344  0.737061  0.058500  0.049789  0.051307\n",
       "drinks    0.215688  0.010898  0.598540  0.087900  0.086974\n",
       "entrance  0.000000  0.287576  0.153526  0.377435  0.181464\n",
       "fruit     0.201447  0.095848  0.054804  0.597264  0.050637\n",
       "spices    0.150565  0.193061  0.162979  0.090880  0.402515"
      ]
     },
     "execution_count": 4,
     "metadata": {},
     "output_type": "execute_result"
    }
   ],
   "source": [
    "# Load in data that informs our functions which probability to use.\n",
    "cust_probs = pd.read_csv('../data/probabilities.csv', index_col=0)\n",
    "cust_probs"
   ]
  },
  {
   "cell_type": "code",
   "execution_count": 5,
   "metadata": {},
   "outputs": [
    {
     "data": {
      "text/plain": [
       "Index(['checkout', 'dairy', 'drinks', 'fruit', 'spices'], dtype='object', name='location')"
      ]
     },
     "execution_count": 5,
     "metadata": {},
     "output_type": "execute_result"
    }
   ],
   "source": [
    "# Create a list of possible states that does not include entrance \n",
    "# because no customer can return to the entrance.\n",
    "states = cust_probs.drop('entrance').index\n",
    "states"
   ]
  },
  {
   "cell_type": "code",
   "execution_count": 6,
   "metadata": {},
   "outputs": [
    {
     "data": {
      "text/plain": [
       "checkout    0.103344\n",
       "dairy       0.737061\n",
       "drinks      0.058500\n",
       "fruit       0.049789\n",
       "spices      0.051307\n",
       "Name: dairy, dtype: float64"
      ]
     },
     "execution_count": 6,
     "metadata": {},
     "output_type": "execute_result"
    }
   ],
   "source": [
    "# Testing how loc works. In the class, 'dairy' is taken out and \n",
    "# self.state takes its place.\n",
    "cust_probs.loc['dairy']"
   ]
  },
  {
   "cell_type": "code",
   "execution_count": 16,
   "metadata": {},
   "outputs": [],
   "source": [
    "class Customer:\n",
    "    \"\"\"\n",
    "    A single customer that moves through the supermarket in a \n",
    "    MCMC simulation.\n",
    "    \"\"\"\n",
    "    \n",
    "    def __init__(self, name, state='entrance'):\n",
    "        self.name = name\n",
    "        self.state = state\n",
    "        self.time = np.random.choice(time_probs.index, p=time_probs.probability)\n",
    "        self.times = [self.time]\n",
    "        self.history = [self.state]\n",
    "        self.close_time = '21:51:00'\n",
    "        self.gen = self.sim_day()\n",
    "\n",
    "\n",
    "    def __repr__(self):\n",
    "        return f'<Customer {self.name} in {self.state}>'\n",
    "    \n",
    "    def sim_day(self):\n",
    "        \"\"\"\n",
    "        Simulates one customer's entire visit to the store.\n",
    "        \"\"\"\n",
    "\n",
    "        while self.state != 'checkout':\n",
    "\n",
    "            next_state = np.random.choice(states, p=cust_probs.loc[self.state])\n",
    "\n",
    "            self.time += pd.Timedelta('1 minute')\n",
    "\n",
    "            if str(self.time)[11:] == self.close_time:\n",
    "                self.state = 'checkout'\n",
    "                self.history.append('checkout')\n",
    "                self.times.append(self.time)\n",
    "                \n",
    "            else:\n",
    "                self.history.append(next_state)\n",
    "                self.times.append(self.time)\n",
    "                self.state = next_state   \n",
    "\n",
    "        df_times = pd.DataFrame(self.times)\n",
    "        df_visited = pd.DataFrame(self.history)\n",
    "\n",
    "        df_combined = pd.merge(df_times, \n",
    "                               df_visited,\n",
    "                               left_index=True, \n",
    "                               right_index=True\n",
    "                               )\n",
    "        \n",
    "        df_combined.columns = ['time','location']\n",
    "        df_combined['id'] = self.name\n",
    "        df_combined = df_combined[['time','id','location']]\n",
    "        \n",
    "        return df_combined\n",
    "        \n",
    "\n",
    "class Supermarket:\n",
    "    \"\"\"\n",
    "    Simulates an entire day of a store.\n",
    "    \"\"\"\n",
    "\n",
    "    def __init__(self, no_customers) -> None:\n",
    "        self.no_customers = no_customers\n",
    "\n",
    "    def sim_day(self):\n",
    "\n",
    "        cust_list = range(1, self.no_customers+1)\n",
    "\n",
    "        df_full = pd.DataFrame()\n",
    "\n",
    "        for cust in cust_list:\n",
    "            customer_name = f'{cust}'\n",
    "            customer_obj = Customer(customer_name)\n",
    "            temp_df = customer_obj.next_state()\n",
    "            df_full = pd.concat([df_full, temp_df])\n",
    "        \n",
    "        df_full.sort_values('time', inplace=True)\n",
    "        df_full.set_index('time', inplace=True)\n",
    "\n",
    "        return df_full\n"
   ]
  },
  {
   "cell_type": "code",
   "execution_count": 17,
   "metadata": {},
   "outputs": [],
   "source": [
    "cust1 = Customer('Mykola')"
   ]
  },
  {
   "cell_type": "code",
   "execution_count": 18,
   "metadata": {},
   "outputs": [
    {
     "data": {
      "text/plain": [
       "['time', 'id', 'location']"
      ]
     },
     "execution_count": 18,
     "metadata": {},
     "output_type": "execute_result"
    }
   ],
   "source": [
    "list(cust1.gen)"
   ]
  },
  {
   "cell_type": "code",
   "execution_count": 389,
   "metadata": {},
   "outputs": [],
   "source": [
    "lidl = Supermarket(1_500)"
   ]
  },
  {
   "cell_type": "code",
   "execution_count": 390,
   "metadata": {},
   "outputs": [],
   "source": [
    "lidl_sim = lidl.sim_day()"
   ]
  },
  {
   "cell_type": "code",
   "execution_count": 391,
   "metadata": {},
   "outputs": [],
   "source": [
    "lidl_sim.to_csv('../data/lidl_sim.csv')"
   ]
  },
  {
   "cell_type": "code",
   "execution_count": null,
   "metadata": {},
   "outputs": [],
   "source": []
  }
 ],
 "metadata": {
  "kernelspec": {
   "display_name": "Python 3",
   "language": "python",
   "name": "python3"
  },
  "language_info": {
   "codemirror_mode": {
    "name": "ipython",
    "version": 3
   },
   "file_extension": ".py",
   "mimetype": "text/x-python",
   "name": "python",
   "nbconvert_exporter": "python",
   "pygments_lexer": "ipython3",
   "version": "3.11.1"
  },
  "orig_nbformat": 4,
  "vscode": {
   "interpreter": {
    "hash": "aee8b7b246df8f9039afb4144a1f6fd8d2ca17a180786b69acc140d282b71a49"
   }
  }
 },
 "nbformat": 4,
 "nbformat_minor": 2
}
