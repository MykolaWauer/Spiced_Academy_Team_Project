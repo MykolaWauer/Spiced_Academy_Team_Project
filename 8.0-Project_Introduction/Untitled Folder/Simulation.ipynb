{
 "cells": [
  {
   "cell_type": "code",
   "execution_count": 1,
   "id": "a7484c85",
   "metadata": {},
   "outputs": [],
   "source": [
    "import pandas as pd\n",
    "import numpy as np\n",
    "#from utils import *\n",
    "from datetime import timedelta"
   ]
  },
  {
   "cell_type": "code",
   "execution_count": 2,
   "id": "be3d8aff",
   "metadata": {},
   "outputs": [
    {
     "data": {
      "text/html": [
       "<div>\n",
       "<style scoped>\n",
       "    .dataframe tbody tr th:only-of-type {\n",
       "        vertical-align: middle;\n",
       "    }\n",
       "\n",
       "    .dataframe tbody tr th {\n",
       "        vertical-align: top;\n",
       "    }\n",
       "\n",
       "    .dataframe thead th {\n",
       "        text-align: right;\n",
       "    }\n",
       "</style>\n",
       "<table border=\"1\" class=\"dataframe\">\n",
       "  <thead>\n",
       "    <tr style=\"text-align: right;\">\n",
       "      <th></th>\n",
       "      <th>checkout</th>\n",
       "      <th>dairy</th>\n",
       "      <th>drinks</th>\n",
       "      <th>fruit</th>\n",
       "      <th>spices</th>\n",
       "    </tr>\n",
       "    <tr>\n",
       "      <th>location</th>\n",
       "      <th></th>\n",
       "      <th></th>\n",
       "      <th></th>\n",
       "      <th></th>\n",
       "      <th></th>\n",
       "    </tr>\n",
       "  </thead>\n",
       "  <tbody>\n",
       "    <tr>\n",
       "      <th>checkout</th>\n",
       "      <td>1.000000</td>\n",
       "      <td>0.000000</td>\n",
       "      <td>0.000000</td>\n",
       "      <td>0.000000</td>\n",
       "      <td>0.000000</td>\n",
       "    </tr>\n",
       "    <tr>\n",
       "      <th>dairy</th>\n",
       "      <td>0.103344</td>\n",
       "      <td>0.737061</td>\n",
       "      <td>0.058500</td>\n",
       "      <td>0.049789</td>\n",
       "      <td>0.051307</td>\n",
       "    </tr>\n",
       "    <tr>\n",
       "      <th>drinks</th>\n",
       "      <td>0.215688</td>\n",
       "      <td>0.010898</td>\n",
       "      <td>0.598540</td>\n",
       "      <td>0.087900</td>\n",
       "      <td>0.086974</td>\n",
       "    </tr>\n",
       "    <tr>\n",
       "      <th>entrance</th>\n",
       "      <td>0.000000</td>\n",
       "      <td>0.287576</td>\n",
       "      <td>0.153526</td>\n",
       "      <td>0.377435</td>\n",
       "      <td>0.181464</td>\n",
       "    </tr>\n",
       "    <tr>\n",
       "      <th>fruit</th>\n",
       "      <td>0.201447</td>\n",
       "      <td>0.095848</td>\n",
       "      <td>0.054804</td>\n",
       "      <td>0.597264</td>\n",
       "      <td>0.050637</td>\n",
       "    </tr>\n",
       "    <tr>\n",
       "      <th>spices</th>\n",
       "      <td>0.150565</td>\n",
       "      <td>0.193061</td>\n",
       "      <td>0.162979</td>\n",
       "      <td>0.090880</td>\n",
       "      <td>0.402515</td>\n",
       "    </tr>\n",
       "  </tbody>\n",
       "</table>\n",
       "</div>"
      ],
      "text/plain": [
       "          checkout     dairy    drinks     fruit    spices\n",
       "location                                                  \n",
       "checkout  1.000000  0.000000  0.000000  0.000000  0.000000\n",
       "dairy     0.103344  0.737061  0.058500  0.049789  0.051307\n",
       "drinks    0.215688  0.010898  0.598540  0.087900  0.086974\n",
       "entrance  0.000000  0.287576  0.153526  0.377435  0.181464\n",
       "fruit     0.201447  0.095848  0.054804  0.597264  0.050637\n",
       "spices    0.150565  0.193061  0.162979  0.090880  0.402515"
      ]
     },
     "execution_count": 2,
     "metadata": {},
     "output_type": "execute_result"
    }
   ],
   "source": [
    "# Load in data that informs our functions which probability to use.\n",
    "Final_df = pd.read_csv('../probabilities.csv', index_col=0)\n",
    "Final_df"
   ]
  },
  {
   "cell_type": "markdown",
   "id": "851c2f69",
   "metadata": {},
   "source": [
    "## Which is the most profitable section according to your data?\n",
    "\n",
    "\n",
    "\n"
   ]
  },
  {
   "cell_type": "code",
   "execution_count": 3,
   "id": "2b643444",
   "metadata": {},
   "outputs": [
    {
     "data": {
      "text/html": [
       "<div>\n",
       "<style scoped>\n",
       "    .dataframe tbody tr th:only-of-type {\n",
       "        vertical-align: middle;\n",
       "    }\n",
       "\n",
       "    .dataframe tbody tr th {\n",
       "        vertical-align: top;\n",
       "    }\n",
       "\n",
       "    .dataframe thead th {\n",
       "        text-align: right;\n",
       "    }\n",
       "</style>\n",
       "<table border=\"1\" class=\"dataframe\">\n",
       "  <thead>\n",
       "    <tr style=\"text-align: right;\">\n",
       "      <th></th>\n",
       "      <th>checkout</th>\n",
       "    </tr>\n",
       "    <tr>\n",
       "      <th>location</th>\n",
       "      <th></th>\n",
       "    </tr>\n",
       "  </thead>\n",
       "  <tbody>\n",
       "    <tr>\n",
       "      <th>checkout</th>\n",
       "      <td>1.000000</td>\n",
       "    </tr>\n",
       "    <tr>\n",
       "      <th>drinks</th>\n",
       "      <td>0.215688</td>\n",
       "    </tr>\n",
       "    <tr>\n",
       "      <th>fruit</th>\n",
       "      <td>0.201447</td>\n",
       "    </tr>\n",
       "    <tr>\n",
       "      <th>spices</th>\n",
       "      <td>0.150565</td>\n",
       "    </tr>\n",
       "    <tr>\n",
       "      <th>dairy</th>\n",
       "      <td>0.103344</td>\n",
       "    </tr>\n",
       "    <tr>\n",
       "      <th>entrance</th>\n",
       "      <td>0.000000</td>\n",
       "    </tr>\n",
       "  </tbody>\n",
       "</table>\n",
       "</div>"
      ],
      "text/plain": [
       "          checkout\n",
       "location          \n",
       "checkout  1.000000\n",
       "drinks    0.215688\n",
       "fruit     0.201447\n",
       "spices    0.150565\n",
       "dairy     0.103344\n",
       "entrance  0.000000"
      ]
     },
     "execution_count": 3,
     "metadata": {},
     "output_type": "execute_result"
    }
   ],
   "source": [
    "Final_df.groupby(\"location\")[[\"checkout\"]].sum().sort_values(\n",
    "    \"checkout\", ascending=False\n",
    ")"
   ]
  },
  {
   "cell_type": "markdown",
   "id": "6ebaa2ac",
   "metadata": {},
   "source": [
    "## Get Transition Propabilities"
   ]
  },
  {
   "cell_type": "code",
   "execution_count": 4,
   "id": "f9ee1d92",
   "metadata": {},
   "outputs": [
    {
     "data": {
      "text/plain": [
       "[0.1033436358527676,\n",
       " 0.7370609721831975,\n",
       " 0.0584995785332958,\n",
       " 0.0497892666479348,\n",
       " 0.0513065467828041]"
      ]
     },
     "execution_count": 4,
     "metadata": {},
     "output_type": "execute_result"
    }
   ],
   "source": [
    "Final_df.loc[\"dairy\"].to_list()"
   ]
  },
  {
   "cell_type": "code",
   "execution_count": 5,
   "id": "668ede92",
   "metadata": {},
   "outputs": [
    {
     "data": {
      "text/plain": [
       "[0.2156882903258969,\n",
       " 0.0108975017991158,\n",
       " 0.5985401459854015,\n",
       " 0.0878996607381515,\n",
       " 0.0869744011514341]"
      ]
     },
     "execution_count": 5,
     "metadata": {},
     "output_type": "execute_result"
    }
   ],
   "source": [
    "Final_df.loc[\"drinks\"].to_list()"
   ]
  },
  {
   "cell_type": "code",
   "execution_count": 6,
   "id": "1653da9a",
   "metadata": {},
   "outputs": [
    {
     "data": {
      "text/plain": [
       "[0.201446768359805,\n",
       " 0.0958484038370813,\n",
       " 0.054804214499135,\n",
       " 0.5972637207108036,\n",
       " 0.050636892593175]"
      ]
     },
     "execution_count": 6,
     "metadata": {},
     "output_type": "execute_result"
    }
   ],
   "source": [
    "Final_df.loc[\"fruit\"].to_list()"
   ]
  },
  {
   "cell_type": "code",
   "execution_count": 7,
   "id": "7010e870",
   "metadata": {},
   "outputs": [
    {
     "ename": "NameError",
     "evalue": "name 'pgv' is not defined",
     "output_type": "error",
     "traceback": [
      "\u001b[1;31m---------------------------------------------------------------------------\u001b[0m",
      "\u001b[1;31mNameError\u001b[0m                                 Traceback (most recent call last)",
      "\u001b[1;32m~\\AppData\\Local\\Temp\\ipykernel_17344\\347894437.py\u001b[0m in \u001b[0;36m<module>\u001b[1;34m\u001b[0m\n\u001b[0;32m      1\u001b[0m \u001b[1;31m#Draw transition probabilities\u001b[0m\u001b[1;33m\u001b[0m\u001b[1;33m\u001b[0m\u001b[0m\n\u001b[0;32m      2\u001b[0m \u001b[0mlocations\u001b[0m \u001b[1;33m=\u001b[0m \u001b[1;33m[\u001b[0m\u001b[1;34m\"dairy\"\u001b[0m\u001b[1;33m,\u001b[0m \u001b[1;34m\"spices\"\u001b[0m\u001b[1;33m,\u001b[0m \u001b[1;34m\"drinks\"\u001b[0m\u001b[1;33m,\u001b[0m \u001b[1;34m\"fruit\"\u001b[0m\u001b[1;33m,\u001b[0m \u001b[1;34m\"checkout\"\u001b[0m\u001b[1;33m]\u001b[0m\u001b[1;33m\u001b[0m\u001b[1;33m\u001b[0m\u001b[0m\n\u001b[1;32m----> 3\u001b[1;33m \u001b[0mG\u001b[0m \u001b[1;33m=\u001b[0m \u001b[0mpgv\u001b[0m\u001b[1;33m.\u001b[0m\u001b[0mAGraph\u001b[0m\u001b[1;33m(\u001b[0m\u001b[0mdirected\u001b[0m\u001b[1;33m=\u001b[0m\u001b[1;32mTrue\u001b[0m\u001b[1;33m)\u001b[0m\u001b[1;33m\u001b[0m\u001b[1;33m\u001b[0m\u001b[0m\n\u001b[0m\u001b[0;32m      4\u001b[0m \u001b[1;32mfor\u001b[0m \u001b[0mstart_location\u001b[0m \u001b[1;32min\u001b[0m \u001b[0mlocations\u001b[0m\u001b[1;33m[\u001b[0m\u001b[1;33m:\u001b[0m\u001b[1;33m-\u001b[0m\u001b[1;36m1\u001b[0m\u001b[1;33m]\u001b[0m\u001b[1;33m:\u001b[0m\u001b[1;33m\u001b[0m\u001b[1;33m\u001b[0m\u001b[0m\n\u001b[0;32m      5\u001b[0m     \u001b[1;32mfor\u001b[0m \u001b[0mend_location\u001b[0m \u001b[1;32min\u001b[0m \u001b[0mlocations\u001b[0m\u001b[1;33m:\u001b[0m\u001b[1;33m\u001b[0m\u001b[1;33m\u001b[0m\u001b[0m\n",
      "\u001b[1;31mNameError\u001b[0m: name 'pgv' is not defined"
     ]
    }
   ],
   "source": [
    "#Draw transition probabilities\n",
    "locations = [\"dairy\", \"spices\", \"drinks\", \"fruit\", \"checkout\"]\n",
    "G = pgv.AGraph(directed=True)\n",
    "for start_location in locations[:-1]:\n",
    "    for end_location in locations:\n",
    "        G.add_edge(\n",
    "            start_location,\n",
    "            end_location,\n",
    "            label=np.round(P.loc[start_location, end_location], 2),\n",
    "        )\n",
    "\n",
    "G.draw(\"transition.png\", prog=\"dot\")"
   ]
  },
  {
   "cell_type": "code",
   "execution_count": 31,
   "id": "e74a3811",
   "metadata": {},
   "outputs": [],
   "source": [
    "import numpy as np\n",
    "from faker import Faker\n",
    "\n",
    "fake = Faker()\n",
    "\n",
    "def increment():\n",
    "    \"auto-increments by 1 starting from 1 (for customer_no)\"\n",
    "    i = 1\n",
    "    while True:\n",
    "        yield i\n",
    "        i = i + 1\n",
    "\n",
    "auto_increment = increment()\n",
    "\n",
    "# define the probabilities for each customer to shop at each location\n",
    "first_probabilities = {\n",
    "    \"customer_id\": [0.2, 0.3, 0.25, 0.25]\n",
    "}\n",
    "\n",
    "class Customer:\n",
    "    \"\"\"\n",
    "    Customer in a supermarket simulation.\n",
    "    \n",
    "    Parameters\n",
    "    ----------\n",
    "    \n",
    "    current_location: The current location of the customer in the supermarket.\n",
    "    customer_nr: Id of the customer.\n",
    "    customer_name: fake first name (generated by Faker)\n",
    "    \"\"\"\n",
    "\n",
    "    def __init__(self):\n",
    "        self.current_location = np.random.choice(\n",
    "            [\"dairy\", \"spices\", \"drinks\", \"fruit\"],\n",
    "            p=first_probabilities[\"customer_id\"]\n",
    "        )\n",
    "        new_customer_nr = next(auto_increment)\n",
    "        self.customer_nr = new_customer_nr\n",
    "        self.customer_name = fake.first_name()\n",
    "\n",
    "    def __repr__(self):\n",
    "        return f\"\"\"{self.customer_name} is in section '{self.current_location}'.\"\"\"\n",
    "\n",
    "    def transition(self):\n",
    "        \"\"\"\n",
    "        Defines how the customer transitions between states/location.\n",
    "        \"\"\"\n",
    "        if self.current_location == \"checkout\":\n",
    "            self.current_location = \"has left the supermarket\"\n",
    "        elif self.current_location == \"has left the supermarket\":\n",
    "            ...\n",
    "        else:\n",
    "            self.current_location = np.random.choice(\n",
    "                [\"checkout\", \"dairy\", \"drinks\", \"fruit\", \"spices\"],\n",
    "                p=Final_df.loc[self.current_location].to_list(),\n",
    "            )\n",
    "        return self.current_location\n"
   ]
  },
  {
   "cell_type": "code",
   "execution_count": 32,
   "id": "8cee7614",
   "metadata": {},
   "outputs": [
    {
     "name": "stdout",
     "output_type": "stream",
     "text": [
      "Kimberly is in section 'spices'.\n",
      "Kimberly is in section 'drinks'.\n",
      "Kimberly is in section 'drinks'.\n",
      "Joseph is in section 'spices'.\n",
      "Joseph is in section 'checkout'.\n",
      "Joseph is in section 'has left the supermarket'.\n",
      "Ronald is in section 'drinks'.\n",
      "Ronald is in section 'drinks'.\n",
      "Ronald is in section 'drinks'.\n",
      "Tracey is in section 'dairy'.\n",
      "Tracey is in section 'dairy'.\n",
      "Tracey is in section 'dairy'.\n",
      "Victoria is in section 'spices'.\n",
      "Victoria is in section 'spices'.\n",
      "Victoria is in section 'spices'.\n",
      "Jerry is in section 'fruit'.\n",
      "Jerry is in section 'fruit'.\n",
      "Jerry is in section 'fruit'.\n",
      "April is in section 'fruit'.\n",
      "April is in section 'dairy'.\n",
      "April is in section 'dairy'.\n",
      "Vanessa is in section 'fruit'.\n",
      "Vanessa is in section 'spices'.\n",
      "Vanessa is in section 'dairy'.\n",
      "Leslie is in section 'dairy'.\n",
      "Leslie is in section 'dairy'.\n",
      "Leslie is in section 'dairy'.\n",
      "Jenna is in section 'fruit'.\n",
      "Jenna is in section 'fruit'.\n",
      "Jenna is in section 'fruit'.\n"
     ]
    }
   ],
   "source": [
    "for _ in range(10):\n",
    "    customer = Customer()\n",
    "    print(customer)\n",
    "    customer.transition()\n",
    "    print(customer)\n",
    "    customer.transition()\n",
    "    print(customer)"
   ]
  },
  {
   "cell_type": "code",
   "execution_count": 34,
   "id": "94017225",
   "metadata": {},
   "outputs": [
    {
     "name": "stdout",
     "output_type": "stream",
     "text": [
      "Alicia is in section 'fruit'.\n"
     ]
    }
   ],
   "source": [
    "customer = Customer()\n",
    "print(customer)\n",
    "    "
   ]
  },
  {
   "cell_type": "markdown",
   "id": "eed3521c",
   "metadata": {},
   "source": [
    "\n",
    "## Monte-Carlo-Markov-Chain"
   ]
  },
  {
   "cell_type": "code",
   "execution_count": 36,
   "id": "df44cb35",
   "metadata": {},
   "outputs": [
    {
     "data": {
      "text/plain": [
       "checkout    0.103344\n",
       "dairy       0.737061\n",
       "drinks      0.058500\n",
       "fruit       0.049789\n",
       "spices      0.051307\n",
       "Name: dairy, dtype: float64"
      ]
     },
     "execution_count": 36,
     "metadata": {},
     "output_type": "execute_result"
    }
   ],
   "source": [
    "Final_df.loc[\"dairy\"]"
   ]
  },
  {
   "cell_type": "code",
   "execution_count": 37,
   "id": "127ea49e",
   "metadata": {},
   "outputs": [],
   "source": [
    "def customer(prob_matrix, initial_state):\n",
    "    while True:\n",
    "        yield np.random.choice([\"checkout\", \"dairy\", \"drinks\", \"fruit\", \"spices\"], p=prob_matrix.loc[initial_state])"
   ]
  },
  {
   "cell_type": "code",
   "execution_count": 38,
   "id": "d33e54de",
   "metadata": {},
   "outputs": [],
   "source": [
    "customer_gen = customer(Final_df, \"drinks\")\n",
    "\n"
   ]
  },
  {
   "cell_type": "code",
   "execution_count": 39,
   "id": "bb4a82d9",
   "metadata": {},
   "outputs": [
    {
     "data": {
      "text/plain": [
       "'checkout'"
      ]
     },
     "execution_count": 39,
     "metadata": {},
     "output_type": "execute_result"
    }
   ],
   "source": [
    "next(customer_gen)\n",
    "\n"
   ]
  },
  {
   "cell_type": "code",
   "execution_count": 40,
   "id": "3e51c1ad",
   "metadata": {},
   "outputs": [
    {
     "data": {
      "text/plain": [
       "'C:\\\\Users\\\\ReDI\\\\Desktop\\\\spiced_projects\\\\week8\\\\8.0-Project_Introduction\\\\Untitled Folder'"
      ]
     },
     "execution_count": 40,
     "metadata": {},
     "output_type": "execute_result"
    }
   ],
   "source": [
    "pwd"
   ]
  },
  {
   "cell_type": "code",
   "execution_count": null,
   "id": "489efca5",
   "metadata": {},
   "outputs": [],
   "source": []
  }
 ],
 "metadata": {
  "kernelspec": {
   "display_name": "Python 3 (ipykernel)",
   "language": "python",
   "name": "python3"
  },
  "language_info": {
   "codemirror_mode": {
    "name": "ipython",
    "version": 3
   },
   "file_extension": ".py",
   "mimetype": "text/x-python",
   "name": "python",
   "nbconvert_exporter": "python",
   "pygments_lexer": "ipython3",
   "version": "3.9.16"
  }
 },
 "nbformat": 4,
 "nbformat_minor": 5
}
