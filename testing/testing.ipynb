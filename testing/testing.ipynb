{
 "cells": [
  {
   "cell_type": "code",
   "execution_count": 17,
   "metadata": {},
   "outputs": [],
   "source": [
    "import cv2\n",
    "import time\n",
    "import numpy as np\n",
    "import pandas as pd"
   ]
  },
  {
   "cell_type": "code",
   "execution_count": 18,
   "metadata": {},
   "outputs": [],
   "source": [
    "CUSTOMER_IMAGE_PATH = \"../build_gif/images/final_logo.png\"\n",
    "BACKGROUND_IMAGE_PATH = \"../build_gif/images/resized_market.png\"\n",
    "SUPERMARKET_LOGO_PATH = \"../build_gif/images/resized_doodl.png\"\n",
    "PRESENCE_PROBABILITIES_PATH = \"../build_gif/data/test_cust.csv\"\n",
    "POSITIONS = pd.read_json(\"../build_gif/data/positions.json\")\n",
    "START_TIME = \"08:00:00\""
   ]
  },
  {
   "cell_type": "code",
   "execution_count": 19,
   "metadata": {},
   "outputs": [],
   "source": [
    "class Character:\n",
    "    \"\"\"\n",
    "    Customers for supermarket simulation.\n",
    "    \"\"\"\n",
    "\n",
    "    def __init__(self, image, x, y):\n",
    "        if not isinstance(x, int) or not isinstance(y, int):\n",
    "            raise TypeError(\"x and y must be set to an integer\")\n",
    "        elif (x < 0) or (y < 0):\n",
    "            raise ValueError(\"x and y must be positive integers\")\n",
    "        self.image = image\n",
    "        self.x = int(x)\n",
    "        self.y = int(y)\n",
    "\n",
    "    def __repr__(self):\n",
    "        return f\"<Customer at {self.x}/{self.y}>\"\n",
    "\n",
    "    def draw(self, background_image):\n",
    "        background_image[\n",
    "            self.y : self.y + self.image.shape[0], self.x : self.x + self.image.shape[1]\n",
    "        ] = self.image\n"
   ]
  },
  {
   "cell_type": "code",
   "execution_count": 20,
   "metadata": {},
   "outputs": [],
   "source": [
    "class Location:\n",
    "    \"\"\"\n",
    "    Location for supermarket simulation.\n",
    "    \"\"\"\n",
    "\n",
    "    def __init__(self, name, customers_present, revenue_per_minute):\n",
    "        if not isinstance(name, str):\n",
    "            raise TypeError(\"name must be set to a string\")\n",
    "        self.name = str(name)\n",
    "        self.customers_present = customers_present\n",
    "        self.revenue_per_minute = int(revenue_per_minute)\n",
    "\n",
    "    def __repr__(self):\n",
    "        return f\"<{self.customers_present} customers present at section {self.name}.>\"\n"
   ]
  },
  {
   "cell_type": "code",
   "execution_count": 37,
   "metadata": {},
   "outputs": [],
   "source": [
    "def put_customers_and_revenue(image, sections, dataframe, revenue):\n",
    "    \"\"\"puts customers and info about revenue on image\"\"\"\n",
    "    customers_present = dataframe[dataframe[\"time\"] == current_time][\n",
    "        \"id\"\n",
    "    ].values\n",
    "    for i, section in enumerate(sections):\n",
    "        section.customers_present = update_customers_present(customers_present, i)\n",
    "        print(section.customers_present)\n",
    "        #for j in range(int(section.customers_present)):\n",
    "            #new_img, new_x, new_y = update_customer_values(POSITIONS, img, section, j)\n",
    "            #customers.append(Character(new_img, new_x, new_y))\n",
    "        #revenue += int(section.customers_present * section.revenue_per_minute)\n",
    "    #for customer in customers:\n",
    "        #customer.draw(image)\n",
    "    #write_text(image, f\"Total Revenue: {revenue}EUR\", 10, 130)\n",
    "    #return revenue"
   ]
  },
  {
   "cell_type": "code",
   "execution_count": 38,
   "metadata": {},
   "outputs": [],
   "source": [
    "def update_customers_present(updated_list, index):\n",
    "    \"\"\"updates customers present for location\"\"\"\n",
    "    new_presence = np.random.poisson(updated_list[index])\n",
    "    if new_presence > 8:\n",
    "        new_presence = 8\n",
    "    return new_presence"
   ]
  },
  {
   "cell_type": "code",
   "execution_count": 39,
   "metadata": {},
   "outputs": [],
   "source": [
    "def update_customer_values(pos_dict, image, location, index):\n",
    "    \"\"\"updates values for customers present at location\"\"\"\n",
    "    x_update = pos_dict[location.name][int(index)][\"x\"]\n",
    "    y_update = pos_dict[location.name][int(index)][\"y\"] + 136\n",
    "    if index % 2 == 0:\n",
    "        img_update = image.copy()\n",
    "    else:\n",
    "        img_update = image[:, ::-1, :].copy()\n",
    "    return img_update, x_update, y_update"
   ]
  },
  {
   "cell_type": "code",
   "execution_count": 40,
   "metadata": {},
   "outputs": [],
   "source": [
    "def write_customers_text(image):\n",
    "    \"\"\"writes info on customers present on image\"\"\"\n",
    "    customers_screen_text = f\"\"\"\n",
    "        Customers:\n",
    "        Checkout: {checkout.customers_present}\n",
    "        Dairy: {dairy.customers_present}\n",
    "        Drinks: {drinks.customers_present}\n",
    "        Fruit: {fruit.customers_present}\n",
    "        Spices: {spices.customers_present}\n",
    "        \"\"\"\n",
    "    x0 = 450\n",
    "    y0, dy = 0, 40\n",
    "    for i, line in enumerate(customers_screen_text.split(\"\\n\")):\n",
    "        if i >= 5:\n",
    "            x0 = 700\n",
    "            y0 = 80\n",
    "            y_updated = y0 + (i - 5) * dy\n",
    "        else:\n",
    "            y_updated = y0 + i * dy\n",
    "        write_text(image, line, x0, y_updated)\n"
   ]
  },
  {
   "cell_type": "code",
   "execution_count": 41,
   "metadata": {},
   "outputs": [],
   "source": [
    "def write_text(image, text, x_position, y_position):\n",
    "    \"\"\"adds text to background image at x_position, y_position\"\"\"\n",
    "    if not isinstance(text, str):\n",
    "        raise TypeError(\"text must be a string\")\n",
    "    cv2.putText(\n",
    "        image,\n",
    "        str(text),\n",
    "        (x_position, y_position),\n",
    "        cv2.FONT_HERSHEY_SIMPLEX,\n",
    "        1,\n",
    "        (0, 0, 0),\n",
    "        2,\n",
    "    )"
   ]
  },
  {
   "cell_type": "code",
   "execution_count": 42,
   "metadata": {},
   "outputs": [],
   "source": [
    "img = cv2.imread(CUSTOMER_IMAGE_PATH)\n",
    "background = cv2.imread(BACKGROUND_IMAGE_PATH)\n",
    "doodl = cv2.imread(SUPERMARKET_LOGO_PATH)\n",
    "\n",
    "checkout = Location(\"checkout\", 0, 0)\n",
    "dairy = Location(\"dairy\", 0, 5)\n",
    "drinks = Location(\"drinks\", 0, 6)\n",
    "fruit = Location(\"fruit\", 0, 4)\n",
    "spices = Location(\"spices\", 0, 3)\n",
    "entrance = Location(\"entrance\", 0, 0)\n",
    "\n",
    "locations = [checkout, dairy, drinks, fruit, spices]\n",
    "customers = []\n",
    "total_revenue = 0\n",
    "current_time = pd.to_datetime(START_TIME)\n",
    "\n",
    "df_presences = pd.read_csv(PRESENCE_PROBABILITIES_PATH)\n",
    "df_presences[\"time\"] = pd.to_datetime(df_presences[\"time\"]).copy()"
   ]
  },
  {
   "cell_type": "code",
   "execution_count": 43,
   "metadata": {},
   "outputs": [
    {
     "name": "stdout",
     "output_type": "stream",
     "text": [
      "<class 'str'>\n"
     ]
    }
   ],
   "source": [
    "t = current_time.time()\n",
    "print(type(t.strftime('%m/%d/%Y')))\n",
    "frame = background.copy()"
   ]
  },
  {
   "cell_type": "code",
   "execution_count": 44,
   "metadata": {},
   "outputs": [
    {
     "ename": "IndexError",
     "evalue": "index 0 is out of bounds for axis 0 with size 0",
     "output_type": "error",
     "traceback": [
      "\u001b[0;31m---------------------------------------------------------------------------\u001b[0m",
      "\u001b[0;31mIndexError\u001b[0m                                Traceback (most recent call last)",
      "Cell \u001b[0;32mIn[44], line 1\u001b[0m\n\u001b[0;32m----> 1\u001b[0m total_revenue \u001b[38;5;241m=\u001b[39m \u001b[43mput_customers_and_revenue\u001b[49m\u001b[43m(\u001b[49m\u001b[43mframe\u001b[49m\u001b[43m,\u001b[49m\u001b[43m \u001b[49m\u001b[43mlocations\u001b[49m\u001b[43m,\u001b[49m\u001b[43m \u001b[49m\u001b[43mdf_presences\u001b[49m\u001b[43m,\u001b[49m\u001b[43m \u001b[49m\u001b[43mtotal_revenue\u001b[49m\u001b[43m)\u001b[49m\n",
      "Cell \u001b[0;32mIn[37], line 7\u001b[0m, in \u001b[0;36mput_customers_and_revenue\u001b[0;34m(image, sections, dataframe, revenue)\u001b[0m\n\u001b[1;32m      3\u001b[0m customers_present \u001b[38;5;241m=\u001b[39m dataframe[dataframe[\u001b[38;5;124m\"\u001b[39m\u001b[38;5;124mtime\u001b[39m\u001b[38;5;124m\"\u001b[39m] \u001b[38;5;241m==\u001b[39m current_time][\n\u001b[1;32m      4\u001b[0m     \u001b[38;5;124m\"\u001b[39m\u001b[38;5;124mid\u001b[39m\u001b[38;5;124m\"\u001b[39m\n\u001b[1;32m      5\u001b[0m ]\u001b[38;5;241m.\u001b[39mvalues\n\u001b[1;32m      6\u001b[0m \u001b[38;5;28;01mfor\u001b[39;00m i, section \u001b[38;5;129;01min\u001b[39;00m \u001b[38;5;28menumerate\u001b[39m(sections):\n\u001b[0;32m----> 7\u001b[0m     section\u001b[38;5;241m.\u001b[39mcustomers_present \u001b[38;5;241m=\u001b[39m \u001b[43mupdate_customers_present\u001b[49m\u001b[43m(\u001b[49m\u001b[43mcustomers_present\u001b[49m\u001b[43m,\u001b[49m\u001b[43m \u001b[49m\u001b[43mi\u001b[49m\u001b[43m)\u001b[49m\n\u001b[1;32m      8\u001b[0m     \u001b[38;5;28mprint\u001b[39m(section\u001b[38;5;241m.\u001b[39mcustomers_present)\n",
      "Cell \u001b[0;32mIn[38], line 3\u001b[0m, in \u001b[0;36mupdate_customers_present\u001b[0;34m(updated_list, index)\u001b[0m\n\u001b[1;32m      1\u001b[0m \u001b[38;5;28;01mdef\u001b[39;00m \u001b[38;5;21mupdate_customers_present\u001b[39m(updated_list, index):\n\u001b[1;32m      2\u001b[0m \u001b[38;5;250m    \u001b[39m\u001b[38;5;124;03m\"\"\"updates customers present for location\"\"\"\u001b[39;00m\n\u001b[0;32m----> 3\u001b[0m     new_presence \u001b[38;5;241m=\u001b[39m np\u001b[38;5;241m.\u001b[39mrandom\u001b[38;5;241m.\u001b[39mpoisson(\u001b[43mupdated_list\u001b[49m\u001b[43m[\u001b[49m\u001b[43mindex\u001b[49m\u001b[43m]\u001b[49m)\n\u001b[1;32m      4\u001b[0m     \u001b[38;5;28;01mif\u001b[39;00m new_presence \u001b[38;5;241m>\u001b[39m \u001b[38;5;241m8\u001b[39m:\n\u001b[1;32m      5\u001b[0m         new_presence \u001b[38;5;241m=\u001b[39m \u001b[38;5;241m8\u001b[39m\n",
      "\u001b[0;31mIndexError\u001b[0m: index 0 is out of bounds for axis 0 with size 0"
     ]
    }
   ],
   "source": [
    "total_revenue = put_customers_and_revenue(frame, locations, df_presences, total_revenue)"
   ]
  },
  {
   "cell_type": "code",
   "execution_count": 13,
   "metadata": {},
   "outputs": [],
   "source": [
    "write_text(frame, t.strftime(\"%H:%M:%S\"), 10, 30)"
   ]
  },
  {
   "cell_type": "code",
   "execution_count": 14,
   "metadata": {},
   "outputs": [],
   "source": [
    "write_customers_text(frame)"
   ]
  },
  {
   "cell_type": "code",
   "execution_count": 15,
   "metadata": {},
   "outputs": [],
   "source": [
    "frame[183:223, 500:540] = doodl"
   ]
  },
  {
   "cell_type": "code",
   "execution_count": 16,
   "metadata": {},
   "outputs": [],
   "source": [
    "cv2.imshow(\"frame\", frame)"
   ]
  },
  {
   "cell_type": "code",
   "execution_count": null,
   "metadata": {},
   "outputs": [],
   "source": [
    "while True:\n",
    "   \n",
    "    #write_text(frame, t.strftime(\"%H:%M:%S\"), 10, 30)\n",
    "    #write_customers_text(frame)\n",
    "    #frame[183:223, 500:540] = doodl\n",
    "    #cv2.imshow(\"frame\", frame)\n",
    "    #customers.clear()\n",
    "    #current_time += pd.to_timedelta(1, unit=\"min\")\n",
    "\n",
    "    #if cv2.waitKey(1) & 0xFF == ord(\"d\"):\n",
    "        #cv2.destroyAllWindows()\n",
    "\n",
    "\n",
    "\n",
    "\n",
    "\n",
    "\n",
    "\n",
    "\n",
    "\n",
    "\n",
    "    \n",
    "\n",
    "    \n"
   ]
  }
 ],
 "metadata": {
  "kernelspec": {
   "display_name": "Python 3 (ipykernel)",
   "language": "python",
   "name": "python3"
  },
  "language_info": {
   "codemirror_mode": {
    "name": "ipython",
    "version": 3
   },
   "file_extension": ".py",
   "mimetype": "text/x-python",
   "name": "python",
   "nbconvert_exporter": "python",
   "pygments_lexer": "ipython3",
   "version": "3.10.9"
  },
  "vscode": {
   "interpreter": {
    "hash": "aee8b7b246df8f9039afb4144a1f6fd8d2ca17a180786b69acc140d282b71a49"
   }
  }
 },
 "nbformat": 4,
 "nbformat_minor": 4
}
