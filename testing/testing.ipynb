{
 "cells": [
  {
   "cell_type": "code",
   "execution_count": 59,
   "metadata": {},
   "outputs": [],
   "source": [
    "from customer import Customer\n",
    "import numpy as np\n",
    "import imageio\n",
    "import os\n",
    "import glob\n",
    "import cv2\n",
    "from matplotlib import pyplot as plt\n",
    "from random import sample\n",
    "from PIL import Image"
   ]
  },
  {
   "cell_type": "code",
   "execution_count": 60,
   "metadata": {},
   "outputs": [],
   "source": [
    "to_be_moved = sample(glob.glob(\"./pictures/*.jpeg\"),1)"
   ]
  },
  {
   "cell_type": "code",
   "execution_count": 61,
   "metadata": {},
   "outputs": [
    {
     "data": {
      "text/plain": [
       "['./pictures/Gerrit.jpeg']"
      ]
     },
     "execution_count": 61,
     "metadata": {},
     "output_type": "execute_result"
    }
   ],
   "source": [
    "to_be_moved"
   ]
  },
  {
   "cell_type": "code",
   "execution_count": 77,
   "metadata": {},
   "outputs": [],
   "source": [
    "def save_each_state(Nb_customers):\n",
    "    \"\"\"\"\n",
    "    This function simulates Nb_customers, assign a random colour\n",
    "    for each of them and save all states (per minute) in the supermarket\n",
    "    as png pictures.\n",
    "    \"\"\"\n",
    "    colors = [0,1,2]#sample(glob.glob(\"./pictures/*.jpeg\"),1)\n",
    "\n",
    "    for customer_id in range (Nb_customers):\n",
    "        #Create new customer\n",
    "        new_customer = Customer(customer_id)\n",
    "        #Assign a random colour\n",
    "        new_color = np.random.choice(colors,2)\n",
    "        unique_colors = np.unique(new_color)\n",
    "        nb_colors_to_change = len(unique_colors)\n",
    "        \n",
    "        (list(new_customer.next_state()))\n",
    "        states = new_customer.history\n",
    " \n",
    "        for s_nb,s in enumerate(states):\n",
    "\n",
    "            #Read the picture to plot thge customer position at each state\n",
    "            frame = cv2.imread('../build_gif/images/market.png')\n",
    "            img2 = Image.open(r\"./pictures/Mykola.jpeg\")\n",
    "              \n",
    "            if s == 'entrance':\n",
    "                \n",
    "                for i in range(nb_colors_to_change):\n",
    "\n",
    "                    frame[550:640, 730:820, unique_colors[i]] = 0\n",
    "\n",
    "            elif s == 'checkout':\n",
    "\n",
    "                for i in range(nb_colors_to_change):\n",
    "\n",
    "                    frame[590:680, 205:295, unique_colors[i]] = 0\n",
    "\n",
    "            elif s == 'dairy':\n",
    "\n",
    "                for i in range(nb_colors_to_change):\n",
    "\n",
    "                    frame[220:310, 310:400, unique_colors[i]] = 0\n",
    "\n",
    "            elif s == 'drinks':\n",
    "\n",
    "                for i in range(nb_colors_to_change):\n",
    "\n",
    "                    frame[220:310, 80:170, unique_colors[i]] = 0\n",
    "\n",
    "            elif s == 'fruit':\n",
    "\n",
    "                for i in range(nb_colors_to_change):\n",
    "\n",
    "                    frame[220:310, 770:860, unique_colors[i]] = 0\n",
    "\n",
    "            elif s == 'spices':\n",
    "\n",
    "                for i in range(nb_colors_to_change):\n",
    "\n",
    "                    frame[220:310, 540:630, unique_colors[i]] = 0\n",
    "\n",
    "            else:\n",
    "\n",
    "                print('This state does not exist')\n",
    "            \n",
    "            #plt.figure(figsize=(8,5))\n",
    "            #plt.imshow(frame)\n",
    "            #Save all states to disk\n",
    "            #plt.savefig(f'./customer_{customer_id}_states_{s_nb}.png')\n",
    "            #plt.close()"
   ]
  },
  {
   "cell_type": "code",
   "execution_count": 78,
   "metadata": {},
   "outputs": [],
   "source": [
    "save_each_state(4)"
   ]
  },
  {
   "cell_type": "code",
   "execution_count": 9,
   "metadata": {},
   "outputs": [],
   "source": [
    "def make_gif_from_states(Nb_customers):\n",
    "    \"\"\"\n",
    "    This function reads all customers states in the order of occurence\n",
    "    and make a gif of all states (and delete the png pictures from disk).\n",
    "    \"\"\"\n",
    "    image_directory = '.'\n",
    "\n",
    "    list_of_images=[]\n",
    "\n",
    "    for customer_id in range (Nb_customers):\n",
    "        path_to_read = os.path.join(image_directory,f'customer_{customer_id}_*.png')\n",
    "        files = glob.glob(path_to_read)\n",
    "        files.sort(key=os.path.getmtime)\n",
    "        for f in files:\n",
    "            im = imageio.imread(f)\n",
    "            list_of_images.append(im)\n",
    "            os.remove(f)\n",
    "\n",
    "    imageio.mimsave(f'./customer_simulation.gif', list_of_images, duration = 0.75)\n"
   ]
  },
  {
   "cell_type": "code",
   "execution_count": 10,
   "metadata": {},
   "outputs": [
    {
     "name": "stderr",
     "output_type": "stream",
     "text": [
      "/var/folders/yg/k2ykb91n2gq_9nxx2ztytxlh0000gn/T/ipykernel_48232/955537260.py:15: DeprecationWarning: Starting with ImageIO v3 the behavior of this function will switch to that of iio.v3.imread. To keep the current behavior (and make this warning disappear) use `import imageio.v2 as imageio` or call `imageio.v2.imread` directly.\n",
      "  im = imageio.imread(f)\n"
     ]
    }
   ],
   "source": [
    "make_gif_from_states(3)"
   ]
  },
  {
   "cell_type": "code",
   "execution_count": null,
   "metadata": {},
   "outputs": [],
   "source": []
  }
 ],
 "metadata": {
  "kernelspec": {
   "display_name": "Python 3 (ipykernel)",
   "language": "python",
   "name": "python3"
  },
  "language_info": {
   "codemirror_mode": {
    "name": "ipython",
    "version": 3
   },
   "file_extension": ".py",
   "mimetype": "text/x-python",
   "name": "python",
   "nbconvert_exporter": "python",
   "pygments_lexer": "ipython3",
   "version": "3.10.9"
  },
  "vscode": {
   "interpreter": {
    "hash": "aee8b7b246df8f9039afb4144a1f6fd8d2ca17a180786b69acc140d282b71a49"
   }
  }
 },
 "nbformat": 4,
 "nbformat_minor": 4
}
